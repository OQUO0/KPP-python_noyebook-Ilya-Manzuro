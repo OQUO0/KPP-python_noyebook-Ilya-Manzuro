{
 "cells": [
  {
   "cell_type": "markdown",
   "id": "c4f06e69-a58b-4bb0-907c-e322fc076047",
   "metadata": {},
   "source": [
    "\n",
    "Задание №1\n",
    "\n",
    "Дана переменная, в которой хранится слово из латинских букв. Напишите код, который выводит на экран:\n",
    "·         среднюю букву, если число букв в слове нечетное;\n",
    "·         две средних буквы, если число букв четное.\n"
   ]
  },
  {
   "cell_type": "code",
   "execution_count": 3,
   "id": "97e5fe19-0b0c-4f76-9dc7-4c70dd4ebc35",
   "metadata": {},
   "outputs": [
    {
     "name": "stdin",
     "output_type": "stream",
     "text": [
      "Введите слово gdsa\n"
     ]
    },
    {
     "name": "stdout",
     "output_type": "stream",
     "text": [
      "ds\n"
     ]
    }
   ],
   "source": [
    "slovo=input(\"Введите слово\")\n",
    "chislo = len(slovo) // 2\n",
    "if len(slovo) % 2 == 0:\n",
    "    print(slovo[chislo-1:chislo+1])\n",
    "else:\n",
    "    print(slovo[choslo])"
   ]
  },
  {
   "cell_type": "markdown",
   "id": "69d3f0d7-564b-4119-9c43-d9bd097b40b2",
   "metadata": {},
   "source": [
    "Задание №2\n",
    "Напишите программу, которая последовательно запрашивает у пользователя числа (по одному за раз) и после первого нуля выводит сумму всех ранее введенных чисел.\n"
   ]
  },
  {
   "cell_type": "code",
   "execution_count": 7,
   "id": "9e83ce93-bafe-4714-8ff4-404b2ea143fb",
   "metadata": {},
   "outputs": [
    {
     "name": "stdin",
     "output_type": "stream",
     "text": [
      "Введите число: 124\n",
      "Введите число: 61\n",
      "Введите число: 0\n"
     ]
    },
    {
     "name": "stdout",
     "output_type": "stream",
     "text": [
      "185\n"
     ]
    }
   ],
   "source": [
    "lst=[]\n",
    "while True:\n",
    "    chislo = eval(input('Введите число:'))\n",
    "    lst.append(chislo)\n",
    "    if chislo == 0:\n",
    "        break\n",
    "print(sum(lst))"
   ]
  },
  {
   "cell_type": "markdown",
   "id": "fcc08200-19ee-4fb4-bd8b-61ebafb8297f",
   "metadata": {},
   "source": [
    "Задание № 3\n",
    "Мы делаем  dating-сервиса, и у нас есть список парней и девушек.\n",
    "Выдвигаем гипотезу: лучшие рекомендации мы получим, если просто отсортируем имена по алфавиту и познакомим людей с одинаковыми индексами после сортировки! Но мы не будем никого знакомить, если кто-то может остаться без пары:\n"
   ]
  },
  {
   "cell_type": "code",
   "execution_count": 9,
   "id": "cc6d20b0-54b0-40ec-8edb-2ee34b1a3e0f",
   "metadata": {},
   "outputs": [
    {
     "name": "stdout",
     "output_type": "stream",
     "text": [
      "Пары получились:\n",
      "Alex и Emma\n",
      "Arthur и Kate\n",
      "John и Kira\n",
      "Richard и Liza\n",
      "Vitali и Trisha\n"
     ]
    }
   ],
   "source": [
    "boys = ['Vitali', 'Alex', 'John', 'Arthur', 'Richard']\n",
    "girls = ['Kate', 'Liza', 'Kira', 'Emma', 'Trisha']\n",
    "boys.sort()\n",
    "girls.sort()\n",
    "if len(boys) != len(girls):\n",
    "    print('Внимание, кто-то может остаться без пары!')\n",
    "else:\n",
    "    print('Пары получились:')\n",
    "    for i in range(len(boys)):\n",
    "        print(boys[i], 'и', girls[i])"
   ]
  },
  {
   "cell_type": "markdown",
   "id": "99caafc8-499a-41d8-810d-5be46fa7f441",
   "metadata": {},
   "source": [
    "Задание №4\n",
    "У нас есть список, содержащий информацию о среднедневной температуре в Фаренгейтах \n",
    "за произвольный период по странам (структура данных в примере). \n",
    "Необходимо написать код, который рассчитает среднюю температуру за период \n",
    "в Цельсиях(!) для каждой страны.\n"
   ]
  },
  {
   "cell_type": "code",
   "execution_count": 14,
   "id": "645c014b-6687-42d9-b6cf-338d26949499",
   "metadata": {},
   "outputs": [
    {
     "name": "stdout",
     "output_type": "stream",
     "text": [
      "Средняя температура в странах:\n",
      "Thailand : 23.9\n",
      "Germany : 13.8\n",
      "Russia : 3.7\n",
      "Poland : 12.0\n"
     ]
    }
   ],
   "source": [
    "temperature_countries_Fahren = [\n",
    "    ['Thailand', [75.2, 77, 78.8, 73.4, 68, 75.2, 77]],\n",
    "    ['Germany', [57.2, 55.4, 59, 59, 53.6]],\n",
    "    ['Russia', [35.6, 37.4, 39.2, 41, 42.8, 39.2, 35.6]],\n",
    "    ['Poland', [50, 50, 53.6, 57.2, 55.4, 55.4]]\n",
    "]\n",
    "print('Средняя температура в странах:')\n",
    "for i in range(len(temperature_countries_Fahren)):\n",
    "    print(temperature_countries_Fahren[i][0], ':',\n",
    "          round((sum(temperature_countries_Fahren[i][1]) / len(temperature_countries_Fahren[i][1]) - 32) / 1.8, 1))"
   ]
  },
  {
   "cell_type": "markdown",
   "id": "758b32ee-8d31-4465-bf4b-ed457b397066",
   "metadata": {},
   "source": [
    "\n",
    "Задание №5\n",
    "Дана переменная, в которой хранится словарь, содержащий гео-метки для каждого пользователя (пример структуры данных приведен ниже). Вам необходимо написать программу, которая выведет на экран множество уникальных гео-меток всех пользователей.\n"
   ]
  },
  {
   "cell_type": "code",
   "execution_count": 23,
   "id": "ef5991e1-c12e-4457-9055-d19c8e0e0cba",
   "metadata": {},
   "outputs": [
    {
     "name": "stdout",
     "output_type": "stream",
     "text": [
      "{98, 35, 15, 213, 54, 119}\n"
     ]
    }
   ],
   "source": [
    "geo_tags = {'user1': [213, 213, 213, 15, 213],\n",
    "            'user2': [54, 54, 119, 119, 119],\n",
    "            'user3': [213, 98, 98, 35]}\n",
    "uniq_geo_tags = []\n",
    "for item in geo_tags.values():\n",
    "    uniq_geo_tags += item\n",
    "print(set(uniq_geo_tags))\n"
   ]
  },
  {
   "cell_type": "markdown",
   "id": "1df1f570-4c7f-40cc-af4b-fb3e6cd50e79",
   "metadata": {},
   "source": [
    "Задание №6\n",
    "\n",
    "Дана переменная, в которой хранится список поисковых запросов пользователя (пример структуры данных приведен ниже). Вам необходимо написать программу, которая выведет на экран распределение количества слов в запросах в требуемом виде.\n"
   ]
  },
  {
   "cell_type": "code",
   "execution_count": 25,
   "id": "1b1486fb-dc72-402f-915f-dd3b7245f6be",
   "metadata": {},
   "outputs": [
    {
     "name": "stdout",
     "output_type": "stream",
     "text": [
      "Поисковых запросов из 3 слов(а): 57.14%\n",
      "Поисковых запросов из 2 слов(а): 42.86%\n"
     ]
    }
   ],
   "source": [
    "requests = [\n",
    "    'смотреть сериалы онлайн',\n",
    "    'новости спорта',\n",
    "    'афиша кино',\n",
    "    'курс доллара',\n",
    "    'сериалы этим летом',\n",
    "    'курс по питону',\n",
    "    'сериалы про спорт',\n",
    "]\n",
    "wordbook = {}\n",
    "for item in requests:\n",
    "    word = item.split()\n",
    "    if len(word) in wordbook.keys():\n",
    "        wordbook[len(word)] += 1\n",
    "    else:\n",
    "        wordbook.update({\n",
    "            len(word): 1\n",
    "        })\n",
    "for key, value in wordbook.items():\n",
    "    kol = round((value / len(requests)) * 100, 2)\n",
    "    print(f'Поисковых запросов из {key} слов(а): {kol}%')\n"
   ]
  },
  {
   "cell_type": "markdown",
   "id": "07718045-e322-470d-9f24-6630e7936d92",
   "metadata": {},
   "source": [
    "Задание № 7\n",
    "Дана переменная, в которой хранится информация о затратах и доходе рекламных кампаний по различным источникам. Необходимо дополнить исходную структуру показателем ROI, который рассчитаем по формуле: (revenue / cost - 1) * 100\n"
   ]
  },
  {
   "cell_type": "code",
   "execution_count": 26,
   "id": "e879dbd7-6d08-4e78-a079-3ba7856d2bf7",
   "metadata": {},
   "outputs": [
    {
     "name": "stdout",
     "output_type": "stream",
     "text": [
      "vk {'revenue': 103, 'cost': 98, 'ROI': 5.1}\n",
      "yandex {'revenue': 179, 'cost': 153, 'ROI': 16.99}\n",
      "facebook {'revenue': 103, 'cost': 110, 'ROI': -6.36}\n",
      "adwords {'revenue': 35, 'cost': 34, 'ROI': 2.94}\n",
      "twitter {'revenue': 11, 'cost': 24, 'ROI': -54.17}\n"
     ]
    }
   ],
   "source": [
    "results = {\n",
    "    'vk': {'revenue': 103, 'cost': 98},\n",
    "    'yandex': {'revenue': 179, 'cost': 153},\n",
    "    'facebook': {'revenue': 103, 'cost': 110},\n",
    "    'adwords': {'revenue': 35, 'cost': 34},\n",
    "    'twitter': {'revenue': 11, 'cost': 24},\n",
    "}\n",
    "for key in results:\n",
    "    results[key]['ROI'] = (round((results[key]['revenue'] / results[key]['cost'] - 1) * 100, 2))\n",
    "    print(key, results[key])"
   ]
  },
  {
   "cell_type": "markdown",
   "id": "fe670f0b-fb88-4857-85c9-4f04a3b94015",
   "metadata": {},
   "source": [
    "Задание №8\n",
    "Дана переменная, в которой хранится статистика рекламных каналов по объемам продаж (пример структуры данных приведен ниже). Напишите программу, которая возвращает название канала с максимальным объемом продаж.\n"
   ]
  },
  {
   "cell_type": "code",
   "execution_count": 29,
   "id": "569982d1-7d3e-4681-a1b7-1ab7366933b9",
   "metadata": {},
   "outputs": [
    {
     "name": "stdout",
     "output_type": "stream",
     "text": [
      "Канала с максимальным объемом продаж: vk\n"
     ]
    }
   ],
   "source": [
    "statistics = {'facebook': 55, 'yandex': 115, 'vk': 120, 'google': 99, 'email': 42, 'ok': 98}\n",
    "max = ''\n",
    "count = 0\n",
    "for key in statistics:\n",
    "    if statistics[key] > count:\n",
    "        count = statistics[key]\n",
    "        max = key\n",
    "print('Канала с максимальным объемом продаж:', max)\n"
   ]
  },
  {
   "cell_type": "code",
   "execution_count": null,
   "id": "44c5546d-14fe-4de2-804a-4bf267807b3e",
   "metadata": {},
   "outputs": [],
   "source": []
  }
 ],
 "metadata": {
  "kernelspec": {
   "display_name": "Python 3 (ipykernel)",
   "language": "python",
   "name": "python3"
  },
  "language_info": {
   "codemirror_mode": {
    "name": "ipython",
    "version": 3
   },
   "file_extension": ".py",
   "mimetype": "text/x-python",
   "name": "python",
   "nbconvert_exporter": "python",
   "pygments_lexer": "ipython3",
   "version": "3.9.7"
  }
 },
 "nbformat": 4,
 "nbformat_minor": 5
}
